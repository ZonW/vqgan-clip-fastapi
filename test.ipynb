{
 "cells": [
  {
   "cell_type": "code",
   "execution_count": null,
   "metadata": {},
   "outputs": [],
   "source": [
    "from IPython.utils import io\n",
    "with io.capture_output() as captured:\n",
    "  %git clone https://github.com/openai/CLIP\n",
    "  %git clone https://github.com/CompVis/taming-transformers.git\n",
    "  %rm -Rf clipit\n",
    "  %git clone https://github.com/mfrashad/clipit.git\n",
    "  %pip3 install ftfy regex tqdm omegaconf pytorch-lightning\n",
    "  %pip3 install kornia\n",
    "  %pip3 install imageio-ffmpeg   \n",
    "  %pip3 install einops\n",
    "  %pip3 install torch-optimizer\n",
    "  %pip3 install easydict\n",
    "  %pip3 install braceexpand\n",
    "  %pip3 install git+https://github.com/pvigier/perlin-numpy\n",
    "\n",
    "  %pip3 install svgwrite\n",
    "  %pip3 install svgpathtools\n",
    "  %pip3 install cssutils\n",
    "  %pip3 install numba\n",
    "  %pip3 install torch-tools\n",
    "  %pip3 install visdom\n",
    "\n",
    "  %pip3 install gradio\n",
    "\n",
    "  %git clone https://github.com/BachiLi/diffvg\n",
    "  %cd diffvg\n",
    "\n",
    "  %git submodule update --init --recursive\n",
    "  %python setup.py install\n",
    "  %cd ..\n",
    "  \n",
    "  %mkdir -p steps\n",
    "  %mkdir -p models"
   ]
  },
  {
   "cell_type": "code",
   "execution_count": 2,
   "metadata": {},
   "outputs": [
    {
     "name": "stdout",
     "output_type": "stream",
     "text": [
      "Working with z of shape (1, 256, 16, 16) = 65536 dimensions.\n",
      "loaded pretrained LPIPS loss from taming/modules/autoencoder/lpips/vgg.pth\n",
      "VQLPIPSWithDiscriminator running with hinge loss.\n",
      "Restored from models/vqgan_imagenet_f16_16384.ckpt\n"
     ]
    }
   ],
   "source": [
    "import sys\n",
    "sys.path.append(\"clipit\")\n",
    "import clipit\n",
    "\n",
    "# To reset settings to default\n",
    "clipit.reset_settings()\n",
    "\n",
    "# You can use \"|\" to separate multiple prompts\n",
    "prompts = \"futuristic building|cyberpunk|flying cars|CGSociety\"\n",
    "\n",
    "# You can trade off speed for quality: draft, normal, better, best\n",
    "'''\n",
    "quality_to_clip_models_table = {\n",
    "        'draft': 'ViT-B/32',\n",
    "        'normal': 'ViT-B/32,ViT-B/16',\n",
    "        'better': 'RN50,ViT-B/32,ViT-B/16',\n",
    "        'best': 'RN50x4,ViT-B/32,ViT-B/16'\n",
    "    }\n",
    "    quality_to_iterations_table = {\n",
    "        'draft': 200,\n",
    "        'normal': 350,\n",
    "        'better': 500,\n",
    "        'best': 500\n",
    "    }\n",
    "'''\n",
    "quality = \"better\"\n",
    "\n",
    "# Aspect ratio: widescreen, square\n",
    "aspect = \"square\"\n",
    "\n",
    "# Add settings\n",
    "clipit.add_settings(prompts=prompts, quality=quality, aspect=aspect)\n",
    "\n",
    "# Apply these settings and run\n",
    "settings = clipit.apply_settings()\n",
    "clipit.do_init(settings)\n",
    "clipit.do_run(settings)"
   ]
  },
  {
   "cell_type": "code",
   "execution_count": null,
   "metadata": {},
   "outputs": [],
   "source": []
  }
 ],
 "metadata": {
  "kernelspec": {
   "display_name": "Python 3.8.9 64-bit",
   "language": "python",
   "name": "python3"
  },
  "language_info": {
   "codemirror_mode": {
    "name": "ipython",
    "version": 3
   },
   "file_extension": ".py",
   "mimetype": "text/x-python",
   "name": "python",
   "nbconvert_exporter": "python",
   "pygments_lexer": "ipython3",
   "version": "3.8.9"
  },
  "orig_nbformat": 4,
  "vscode": {
   "interpreter": {
    "hash": "31f2aee4e71d21fbe5cf8b01ff0e069b9275f58929596ceb00d14d90e3e16cd6"
   }
  }
 },
 "nbformat": 4,
 "nbformat_minor": 2
}
